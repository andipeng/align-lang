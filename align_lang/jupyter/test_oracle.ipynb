{
 "cells": [
  {
   "cell_type": "code",
   "execution_count": 1,
   "id": "ac08f2c0-9760-41fc-90a9-b8af4ff9d074",
   "metadata": {
    "tags": []
   },
   "outputs": [
    {
     "name": "stderr",
     "output_type": "stream",
     "text": [
      "pybullet build time: Sep 21 2023 11:56:10\n"
     ]
    },
    {
     "name": "stdout",
     "output_type": "stream",
     "text": [
      "[INFO] 17 tasks loaded\n"
     ]
    }
   ],
   "source": [
    "import pickle\n",
    "import numpy as np\n",
    "import vima_bench"
   ]
  },
  {
   "cell_type": "code",
   "execution_count": 2,
   "id": "888127b5-49e1-4710-a95b-3a8793244b6c",
   "metadata": {},
   "outputs": [
    {
     "name": "stderr",
     "output_type": "stream",
     "text": [
      "/Users/andipeng/miniforge3/envs/align-lang/lib/python3.9/site-packages/gym/spaces/box.py:73: UserWarning: \u001b[33mWARN: Box bound precision lowered by casting to float32\u001b[0m\n",
      "  logger.warn(\n"
     ]
    }
   ],
   "source": [
    "task_name = 'visual_manipulation'\n",
    "#task_kwargs = {\n",
    "#    'constraint': True,\n",
    "#    'dragged_obj_loc': [2],\n",
    "#    'possible_base_obj': ['pallet'],\n",
    "#    'possible_base_obj_texture': ['wooden'],\n",
    "#    'possible_dragged_obj': ['tomato'],\n",
    "#    'possible_dragged_obj_texture': ['red'],\n",
    "    #'possible_constraint_obj': ['line'],\n",
    "    #'possible_constraint_obj_texture': ['red']\n",
    "#}\n",
    "task_kwargs = { 'num_dragged_obj': 1,\n",
    "               'num_base_obj': 1,\n",
    "               'num_other_obj': 1,\n",
    "               'dragged_obj_loc': [2],\n",
    "               'base_obj_loc': [4],\n",
    "               'third_obj_loc' : [1],\n",
    "               'fourth_obj_loc' : [2],\n",
    "               'possible_dragged_obj': ['tomato'],\n",
    "               'possible_dragged_obj_texture': ['red'],\n",
    "               'possible_base_obj': ['square'],\n",
    "               'possible_base_obj_texture': ['red'],\n",
    "               'possible_third_obj': ['pepper'],\n",
    "               'possible_third_obj_texture': ['green'],\n",
    "               'possible_fourth_obj': ['tomato'],\n",
    "               'possible_fourth_obj_texture': ['green']}\n",
    "# record_gui=True, display_debug_window=True, hide_arm_rgb=False\n",
    "record_cfg = {'save_video': True,\n",
    "              'save_video_path': './rollouts/',\n",
    "              'view': 'front',\n",
    "              'fps': 18,\n",
    "              'video_height': 320,\n",
    "              'video_width': 368}\n",
    "env = vima_bench.make(task_name=task_name,task_kwargs=task_kwargs,hide_arm_rgb=False,display_debug_window=True,record_cfg=record_cfg)\n",
    "\n",
    "task = env.task\n",
    "oracle_fn = task.oracle(env)\n",
    "obs = env.reset()"
   ]
  },
  {
   "cell_type": "code",
   "execution_count": 3,
   "id": "34cabba2-4872-476e-90d4-6ee3b2f741f6",
   "metadata": {},
   "outputs": [],
   "source": [
    "env.start_rec('test')\n",
    "oracle_action = oracle_fn.act(obs)\n",
    "# clip action\n",
    "oracle_action = {\n",
    "    k: np.clip(v, env.action_space[k].low, env.action_space[k].high)\n",
    "    for k, v in oracle_action.items()\n",
    "    }\n",
    "obs, _, done, info = env.step(action=oracle_action, skip_oracle=False)"
   ]
  },
  {
   "cell_type": "code",
   "execution_count": null,
   "id": "9a762410-470c-4142-86cc-7decbe81dbdf",
   "metadata": {},
   "outputs": [],
   "source": [
    "env.end_rec()\n",
    "env.close()"
   ]
  },
  {
   "cell_type": "code",
   "execution_count": null,
   "id": "ce8b9c5f-0b73-4e84-addf-fa3ee4d3911f",
   "metadata": {},
   "outputs": [],
   "source": []
  }
 ],
 "metadata": {
  "kernelspec": {
   "display_name": "Python 3 (ipykernel)",
   "language": "python",
   "name": "python3"
  },
  "language_info": {
   "codemirror_mode": {
    "name": "ipython",
    "version": 3
   },
   "file_extension": ".py",
   "mimetype": "text/x-python",
   "name": "python",
   "nbconvert_exporter": "python",
   "pygments_lexer": "ipython3",
   "version": "3.9.18"
  }
 },
 "nbformat": 4,
 "nbformat_minor": 5
}
