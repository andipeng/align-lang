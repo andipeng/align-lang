{
 "cells": [
  {
   "cell_type": "code",
   "execution_count": 1,
   "id": "ac08f2c0-9760-41fc-90a9-b8af4ff9d074",
   "metadata": {},
   "outputs": [
    {
     "name": "stderr",
     "output_type": "stream",
     "text": [
      "pybullet build time: Jun  2 2023 13:47:13\n"
     ]
    },
    {
     "name": "stdout",
     "output_type": "stream",
     "text": [
      "[INFO] 17 tasks loaded\n"
     ]
    }
   ],
   "source": [
    "import pickle\n",
    "import numpy as np\n",
    "import vima_bench"
   ]
  },
  {
   "cell_type": "code",
   "execution_count": 2,
   "id": "888127b5-49e1-4710-a95b-3a8793244b6c",
   "metadata": {},
   "outputs": [
    {
     "name": "stderr",
     "output_type": "stream",
     "text": [
      "/Users/andipeng/miniconda3/envs/align-lang/lib/python3.9/site-packages/gym/spaces/box.py:73: UserWarning: \u001b[33mWARN: Box bound precision lowered by casting to float32\u001b[0m\n",
      "  logger.warn(\n"
     ]
    },
    {
     "name": "stdout",
     "output_type": "stream",
     "text": [
      "0.7428619539920318 -0.17272057138115843\n"
     ]
    }
   ],
   "source": [
    "task_name = 'sweep_without_touching'\n",
    "task_kwargs = {'constraint': False,\n",
    "               'dragged_obj_loc': [4],\n",
    "               'possible_base_obj': ['three-sided rectangle'],\n",
    "               'possible_base_obj_texture': ['blue'],\n",
    "               'possible_dragged_obj': ['small block'],\n",
    "               'possible_dragged_obj_texture': ['red'],\n",
    "               'possible_constraint_obj': ['line'],\n",
    "               'possible_constraint_obj_texture': ['granite']}\n",
    "# record_gui=True, display_debug_window=True, hide_arm_rgb=False\n",
    "env = vima_bench.make(task_name=task_name,task_kwargs=task_kwargs,hide_arm_rgb=False,display_debug_window=True)\n",
    "\n",
    "task = env.task\n",
    "oracle_fn = task.oracle(env)\n",
    "obs = env.reset()"
   ]
  },
  {
   "cell_type": "code",
   "execution_count": 3,
   "id": "34cabba2-4872-476e-90d4-6ee3b2f741f6",
   "metadata": {},
   "outputs": [],
   "source": [
    "oracle_action = oracle_fn.act(obs)\n",
    "# clip action\n",
    "oracle_action = {\n",
    "    k: np.clip(v, env.action_space[k].low, env.action_space[k].high)\n",
    "    for k, v in oracle_action.items()\n",
    "    }\n",
    "obs, _, done, info = env.step(action=oracle_action, skip_oracle=False)"
   ]
  },
  {
   "cell_type": "code",
   "execution_count": null,
   "id": "9a762410-470c-4142-86cc-7decbe81dbdf",
   "metadata": {},
   "outputs": [],
   "source": [
    "env.close()"
   ]
  },
  {
   "cell_type": "code",
   "execution_count": null,
   "id": "ce8b9c5f-0b73-4e84-addf-fa3ee4d3911f",
   "metadata": {},
   "outputs": [],
   "source": []
  }
 ],
 "metadata": {
  "kernelspec": {
   "display_name": "aligning",
   "language": "python",
   "name": "aligning"
  },
  "language_info": {
   "codemirror_mode": {
    "name": "ipython",
    "version": 3
   },
   "file_extension": ".py",
   "mimetype": "text/x-python",
   "name": "python",
   "nbconvert_exporter": "python",
   "pygments_lexer": "ipython3",
   "version": "3.9.16"
  }
 },
 "nbformat": 4,
 "nbformat_minor": 5
}
